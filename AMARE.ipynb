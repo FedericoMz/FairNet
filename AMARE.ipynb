{
 "cells": [
  {
   "cell_type": "code",
   "execution_count": 123,
   "id": "66acfb85-2b23-40e3-b57d-4af082868917",
   "metadata": {},
   "outputs": [],
   "source": [
    "import pandas as pd\n",
    "import numpy as np\n",
    "import networkx as nx"
   ]
  },
  {
   "cell_type": "code",
   "execution_count": 124,
   "id": "1c890509-942f-4750-ba01-98f1e5fcaecb",
   "metadata": {},
   "outputs": [
    {
     "name": "stdout",
     "output_type": "stream",
     "text": [
      "loaded\n",
      "attributes\n"
     ]
    }
   ],
   "source": [
    "g = nx.Graph()\n",
    "g.name = 'copenhagen'\n",
    "with open('data/copenhagen/bt_symmetric.csv') as f:\n",
    "    for l in f.readlines()[1:]:\n",
    "        tid, a, b, rssi = l.rstrip().split(',')\n",
    "        g.add_edge(int(a),int(b), tid=tid)\n",
    "print('loaded')\n",
    "\n",
    "attrs = {n: None for n in g.nodes()} # also fix missing data\n",
    "with open('data/copenhagen/genders.csv') as f:\n",
    "    for l in f.readlines()[1:]:\n",
    "        node, gender = l.rstrip().split(',')\n",
    "        attrs[int(node)] = gender\n",
    "    nx.set_node_attributes(g, attrs, name='gender')\n",
    "print('attributes')"
   ]
  },
  {
   "cell_type": "code",
   "execution_count": 125,
   "id": "1c0c724d-778f-43ba-b115-7513957b18b8",
   "metadata": {},
   "outputs": [],
   "source": [
    "to_remove = []\n",
    "for n in attrs:\n",
    "    if attrs[n] is None:\n",
    "        to_remove.append(n)\n",
    "\n",
    "g.remove_nodes_from(to_remove)"
   ]
  },
  {
   "cell_type": "code",
   "execution_count": 126,
   "id": "4d6e85f7-0c4e-41b3-838f-6b680104bc76",
   "metadata": {},
   "outputs": [
    {
     "name": "stdout",
     "output_type": "stream",
     "text": [
      "Name: copenhagen\n",
      "Type: Graph\n",
      "Number of nodes: 673\n",
      "Number of edges: 75124\n",
      "Average degree: 223.2511\n"
     ]
    }
   ],
   "source": [
    "print(nx.info(g))"
   ]
  },
  {
   "cell_type": "code",
   "execution_count": 127,
   "id": "39a55fed-fc80-4768-a6ab-0d6b989fe9d8",
   "metadata": {},
   "outputs": [],
   "source": [
    "from collections import Counter\n",
    "#g = nx.convert_node_labels_to_integers(g)\n",
    "sizes = dict(Counter(list(nx.get_node_attributes(g, 'gender').values())))\n",
    "sizes['0'] = sizes['0'] / (len(g))\n",
    "sizes['1'] = sizes['1'] / (len(g))"
   ]
  },
  {
   "cell_type": "code",
   "execution_count": 128,
   "id": "50c5e849-d8de-4581-ba94-9799a0777a66",
   "metadata": {},
   "outputs": [
    {
     "data": {
      "text/plain": [
       "{'0': 0.7830609212481426, '1': 0.21693907875185736}"
      ]
     },
     "execution_count": 128,
     "metadata": {},
     "output_type": "execute_result"
    }
   ],
   "source": [
    "sizes"
   ]
  },
  {
   "cell_type": "code",
   "execution_count": 129,
   "id": "2f3ca4d9-70b6-462c-9cdc-e25b13fc3e3c",
   "metadata": {},
   "outputs": [],
   "source": [
    "def homogeneity(node, attr, remove_ego=False):\n",
    "    \n",
    "    egonet = nx.ego_graph(g, node)\n",
    "    egonet_attrs = list(nx.get_node_attributes(egonet, 'gender').values())\n",
    "    count = dict(Counter(egonet_attrs))[attr]\n",
    "    size = len(egonet)\n",
    "    if remove_ego:\n",
    "        count-=1\n",
    "        size-=1\n",
    "    return count/size\n",
    "\n",
    "\n",
    "hs = {}\n",
    "for n in g.nodes():\n",
    "    attr = attrs[n]\n",
    "    hom = homogeneity(n, attr, remove_ego=False)\n",
    "    hs[n] = hom\n",
    "nx.set_node_attributes(g, hs, 'homogeneity')"
   ]
  },
  {
   "cell_type": "code",
   "execution_count": 120,
   "id": "d808d29a-adb8-490f-af93-e621f91c3255",
   "metadata": {},
   "outputs": [],
   "source": [
    "def purity(node):\n",
    "    egonet = nx.ego_graph(g, node)\n",
    "    egonet_attrs = list(nx.get_node_attributes(egonet, 'gender').values())\n",
    "    count = Counter(egonet_attrs).most_common()[0][1]\n",
    "    size = len(egonet)\n",
    "    return count/size\n",
    "\n",
    "def second_order_homogeneity(node):\n",
    "    egonet = nx.ego_graph(g, node)\n",
    "    homs = []\n",
    "    for n2 in egonet:\n",
    "        n2_attr = attrs[n2]\n",
    "        homs.append(homogeneity(n2, n2_attr))\n",
    "    return np.mean(homs)\n",
    "\n",
    "def weighted_homogeneity(node, attr, remove_ego=False):\n",
    "    hom = homogeneity(node, attr, remove_ego=remove_ego)\n",
    "    return hom / sizes[attr]"
   ]
  },
  {
   "cell_type": "code",
   "execution_count": null,
   "id": "ade765bc-6229-4258-881a-47a7384fb690",
   "metadata": {},
   "outputs": [],
   "source": []
  },
  {
   "cell_type": "code",
   "execution_count": 122,
   "id": "ba0fd357-e21c-4da5-8448-eeb01a182196",
   "metadata": {},
   "outputs": [
    {
     "name": "stdout",
     "output_type": "stream",
     "text": [
      "0 0.8170347003154574 1.0433858696628138 \n",
      "0 0.7580645161290323 0.9680785946012119 \n",
      "0 0.7530864197530864 0.9617213671609623 \n",
      "0 0.8181818181818182 1.0448507848887356 \n",
      "1 0.25936599423631124 1.1955706446646401 \n",
      "1 0.313953488372093 1.447196559413826 \n",
      "0 0.8985507246376812 1.1474850809889172 \n",
      "0 1.0 1.2770398481973435 \n",
      "0 0.7349397590361446 0.9385473583137103 \n",
      "0 0.7821100917431193 0.9987857528332434 \n",
      "0 0.7757201646090535 0.9906255612559639 \n",
      "0 0.7976539589442815 1.0186358906442152 \n",
      "0 0.7961538461538461 1.0167201868340388 \n",
      "0 0.7725490196078432 0.9865758827250065 \n",
      "1 0.2222222222222222 1.0243531202435312 \n",
      "0 0.756578947368421 0.9661814640966743 \n",
      "0 0.8211009174311926 1.0485785909510297 \n",
      "0 0.847457627118644 1.0822371594892741 \n",
      "0 0.7894736842105263 1.008189353840008 \n",
      "0 0.6735751295336787 0.860182281169195 \n",
      "0 0.7962962962962963 1.016902101342329 \n",
      "0 0.7941176470588235 1.0141198794508315 \n",
      "1 0.3034825870646766 1.3989300074967628 \n",
      "0 0.6363636363636364 0.8126617215801276 \n",
      "0 0.8148148148148148 1.0405509874200576 \n",
      "1 0.2995169082125604 1.380649857719542 \n",
      "0 0.8112244897959183 1.0359659993029469 \n",
      "0 0.8 1.0216318785578749 \n",
      "1 0.3062015503875969 1.4114633110332377 \n",
      "0 0.8116883116883117 1.0365583183419995 \n",
      "0 0.7712177121771218 0.9848757500857741 \n",
      "0 0.8043478260869565 1.0271842257239503 \n",
      "1 0.3157894736842105 1.455659697188176 \n",
      "0 0.8258706467661692 1.0546697253769106 \n",
      "1 0.2571428571428571 1.1853228962818003 \n",
      "0 0.7601809954751131 0.9707814230640438 \n",
      "1 0.22714681440443213 1.0470534663985125 \n",
      "1 0.2305084745762712 1.0625493382865103 \n",
      "1 0.24528301886792453 1.1306539157405013 \n",
      "0 0.7769516728624535 0.9921982463689396 \n",
      "0 0.7534246575342466 0.9621533102856697 \n",
      "1 0.27123287671232876 1.2502720960780633 \n",
      "0 0.7916666666666666 1.010989879822897 \n",
      "0 0.7322175732217573 0.9350710185545401 \n",
      "0 0.802547770700637 1.0248854832666578 \n",
      "0 0.8104838709677419 1.0350201995470405 \n",
      "1 0.3157894736842105 1.455659697188176 \n",
      "0 0.7409638554216867 0.9462403694474292 \n",
      "1 0.2537313432835821 1.1695972193825395 \n",
      "0 0.7710843373493976 0.9847054251160239 \n"
     ]
    }
   ],
   "source": [
    "for node in list(g.nodes())[:50]:\n",
    "    node_attr = attrs[node]\n",
    "    \n",
    "    print()\n",
    "   "
   ]
  },
  {
   "cell_type": "code",
   "execution_count": 112,
   "id": "078535a1-2319-4bba-ac9e-f5bbc192aa59",
   "metadata": {},
   "outputs": [],
   "source": []
  },
  {
   "cell_type": "code",
   "execution_count": 115,
   "id": "8c5ee704-2363-48e1-ac17-afe871451c58",
   "metadata": {},
   "outputs": [
    {
     "name": "stdout",
     "output_type": "stream",
     "text": [
      "0 0.8170347003154574 0.6834622809165989\n",
      "0 0.7580645161290323 0.6486752989992199\n",
      "0 0.7530864197530864 0.646373473151727\n",
      "0 0.8181818181818182 0.684656160157771\n",
      "1 0.25936599423631124 0.6391783450142745\n",
      "1 0.313953488372093 0.6054182014335772\n",
      "0 0.8985507246376812 0.7453715402386006\n",
      "0 1.0 1.0\n",
      "0 0.7349397590361446 0.6324474070967165\n",
      "0 0.7821100917431193 0.6648878213011667\n",
      "0 0.7757201646090535 0.661044093283853\n",
      "0 0.7976539589442815 0.6730996186171939\n",
      "0 0.7961538461538461 0.6747745000712377\n",
      "0 0.7725490196078432 0.6590079022186733\n",
      "1 0.2222222222222222 0.6465605721801042\n",
      "0 0.756578947368421 0.646208156211844\n",
      "0 0.8211009174311926 0.6871210187042911\n",
      "0 0.847457627118644 0.6918933253374321\n",
      "0 0.7894736842105263 0.6714803600770461\n",
      "0 0.6735751295336787 0.5994439482745674\n"
     ]
    }
   ],
   "source": [
    "for node in list(g.nodes())[:20]:\n",
    "    attr = attrs[node]\n",
    "    egonet = nx.ego_graph(g, node)\n",
    "    egonet_attrs = list(nx.get_node_attributes(egonet, 'homogeneity').values())\n",
    "    avg = np.mean(egonet_attrs)\n",
    "    \n",
    "    print(attr, hs[node], avg)"
   ]
  },
  {
   "cell_type": "code",
   "execution_count": null,
   "id": "0a4fe267-711d-4263-be5d-e998d9aca4db",
   "metadata": {},
   "outputs": [],
   "source": []
  }
 ],
 "metadata": {
  "kernelspec": {
   "display_name": "Python 3",
   "language": "python",
   "name": "python3"
  },
  "language_info": {
   "codemirror_mode": {
    "name": "ipython",
    "version": 3
   },
   "file_extension": ".py",
   "mimetype": "text/x-python",
   "name": "python",
   "nbconvert_exporter": "python",
   "pygments_lexer": "ipython3",
   "version": "3.8.8"
  }
 },
 "nbformat": 4,
 "nbformat_minor": 5
}
