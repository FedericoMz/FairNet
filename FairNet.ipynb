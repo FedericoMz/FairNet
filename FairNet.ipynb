{
 "cells": [
  {
   "cell_type": "code",
   "execution_count": 1,
   "id": "66acfb85-2b23-40e3-b57d-4af082868917",
   "metadata": {},
   "outputs": [],
   "source": [
    "import pandas as pd\n",
    "import numpy as np\n",
    "import networkx as nx\n",
    "import seaborn as sns\n",
    "import matplotlib.cm as cm\n",
    "import matplotlib.pyplot as plt\n",
    "import random\n",
    "import copy\n",
    "\n",
    "from collections import Counter, defaultdict\n",
    "from deap import base, creator, tools\n",
    "from tqdm import tqdm"
   ]
  },
  {
   "cell_type": "code",
   "execution_count": 2,
   "id": "4ee362f0",
   "metadata": {},
   "outputs": [],
   "source": [
    "threshold = 0.3 #threshold di discriminazione\n",
    "egoradius = 2 #Per link da aggiungere - raggio dell'egonetwork\n",
    "delete = 0.5 #Per link da eliminare - top % con betweeness bassa rimovibili\n",
    "attr_name = 'gender'"
   ]
  },
  {
   "cell_type": "code",
   "execution_count": 3,
   "id": "120af3d4",
   "metadata": {},
   "outputs": [],
   "source": [
    "# 0 = Solo aggiunta\n",
    "# 1 = Solo rimozione\n",
    "# 2 = Entrambe\n",
    "mode = 2"
   ]
  },
  {
   "cell_type": "markdown",
   "id": "2007c150",
   "metadata": {},
   "source": [
    "# AMARE - Attribute-aware MARginalization Estimator"
   ]
  },
  {
   "cell_type": "code",
   "execution_count": 4,
   "id": "1c890509-942f-4750-ba01-98f1e5fcaecb",
   "metadata": {
    "scrolled": true
   },
   "outputs": [
    {
     "name": "stdout",
     "output_type": "stream",
     "text": [
      "loaded net\n",
      "loaded attributes\n",
      "unlabeled removed\n"
     ]
    }
   ],
   "source": [
    "g = nx.Graph()\n",
    "g.name = 'copenhagen'\n",
    "with open('bt_symmetric.csv') as f:\n",
    "    for l in f.readlines()[1:]:\n",
    "        tid, a, b, rssi = l.rstrip().split(',')\n",
    "        g.add_edge(int(a),int(b), tid=tid)\n",
    "print('loaded net')\n",
    "\n",
    "attrs = {n: None for n in g.nodes()} # also fix missing data\n",
    "with open('genders.csv') as f:\n",
    "    for l in f.readlines()[1:]:\n",
    "        node, gender = l.rstrip().split(',')\n",
    "        attrs[int(node)] = gender\n",
    "    nx.set_node_attributes(g, attrs, name=attr_name)\n",
    "print('loaded attributes')\n",
    "\n",
    "to_remove = []\n",
    "for n in attrs:\n",
    "    if attrs[n] is None:\n",
    "        to_remove.append(n)\n",
    "\n",
    "g.remove_nodes_from(to_remove)\n",
    "print('unlabeled removed')"
   ]
  },
  {
   "cell_type": "code",
   "execution_count": 5,
   "id": "4d6e85f7-0c4e-41b3-838f-6b680104bc76",
   "metadata": {},
   "outputs": [
    {
     "name": "stdout",
     "output_type": "stream",
     "text": [
      "Name: copenhagen\n",
      "Type: Graph\n",
      "Number of nodes: 673\n",
      "Number of edges: 75124\n",
      "Average degree: 223.2511\n"
     ]
    }
   ],
   "source": [
    "print(nx.info(g))"
   ]
  },
  {
   "cell_type": "code",
   "execution_count": 6,
   "id": "16e79485",
   "metadata": {},
   "outputs": [],
   "source": [
    "attrs = nx.get_node_attributes(g, attr_name)"
   ]
  },
  {
   "cell_type": "code",
   "execution_count": 7,
   "id": "39a55fed-fc80-4768-a6ab-0d6b989fe9d8",
   "metadata": {},
   "outputs": [],
   "source": [
    "#g = nx.convert_node_labels_to_integers(g)\n",
    "sizes = dict(Counter(list(attrs.values())))\n",
    "sizes['0'] = sizes['0'] / (len(g))\n",
    "sizes['1'] = sizes['1'] / (len(g))\n",
    "weights = dict(Counter(list(attrs.values())))\n",
    "weights['0'] = 1 - sizes['0']\n",
    "weights['1'] = 1 - sizes['1']"
   ]
  },
  {
   "cell_type": "code",
   "execution_count": 8,
   "id": "ba0fd357-e21c-4da5-8448-eeb01a182196",
   "metadata": {
    "tags": []
   },
   "outputs": [
    {
     "name": "stderr",
     "output_type": "stream",
     "text": [
      "100%|██████████| 673/673 [00:00<00:00, 42372.43it/s]\n"
     ]
    }
   ],
   "source": [
    "marg_dict = dict()\n",
    "\n",
    "for node in tqdm(g.nodes()):\n",
    "    attr = attrs[node]\n",
    "    \n",
    "    # COMPUTE MARGINALIZATION\n",
    "    marg = 0\n",
    "    egonet = list(g.neighbors(node)) + [node]\n",
    "    egonet_attrs = [attrs[n] for n in egonet]\n",
    "    \n",
    "    count = dict(Counter(egonet_attrs))[attr]\n",
    "    size = len(egonet_attrs)\n",
    "    \n",
    "    if size > 2:\n",
    "        marg = ((count * weights[attr] / (count * weights[attr] + (size-count)* (1 - weights[attr]))) - 0.5) * 2\n",
    "    else:\n",
    "        marg = 0\n",
    "    \n",
    "    marg_dict[node] = marg\n",
    "\n",
    "disc_nodes = [k for k,v in marg_dict.items() if abs(v) > threshold]\n",
    "disc = len(disc_nodes)"
   ]
  },
  {
   "cell_type": "code",
   "execution_count": 9,
   "id": "4a11d649",
   "metadata": {},
   "outputs": [
    {
     "name": "stdout",
     "output_type": "stream",
     "text": [
      "=== STATS ===\n",
      "Marginalized nodes: 42\n",
      "Global Discrimination: 6.240713224368499\n",
      "Overall Marginalization Score: 0.1129377217024731\n"
     ]
    },
    {
     "data": {
      "text/plain": [
       "<AxesSubplot:ylabel='Density'>"
      ]
     },
     "execution_count": 9,
     "metadata": {},
     "output_type": "execute_result"
    },
    {
     "data": {
      "image/png": "[encoded data removed]",
      "text/plain": [
       "<Figure size 432x288 with 1 Axes>"
      ]
     },
     "metadata": {
      "needs_background": "light"
     },
     "output_type": "display_data"
    }
   ],
   "source": [
    "print(\"=== STATS ===\")\n",
    "print(\"Marginalized nodes:\", disc)\n",
    "print(\"Global Discrimination:\", disc * 100 / len(g.nodes()))\n",
    "print(\"Overall Marginalization Score:\", np.mean([abs(x) for x in marg_dict.values()]))\n",
    "sns.kdeplot(list(marg_dict.values()))"
   ]
  },
  {
   "cell_type": "code",
   "execution_count": 10,
   "id": "16f335af",
   "metadata": {},
   "outputs": [
    {
     "name": "stderr",
     "output_type": "stream",
     "text": [
      "100%|██████████| 42/42 [00:09<00:00,  4.32it/s]\n"
     ]
    }
   ],
   "source": [
    "if mode == 1:\n",
    "    possible_links = []\n",
    "else:\n",
    "    plausible = nx.Graph() # stores plausible links\n",
    "\n",
    "    for node in tqdm(disc_nodes):\n",
    "        egonet = list(g.neighbors(node)) + [node]\n",
    "        egonet2 = nx.ego_graph(g, node, center=True, radius=egoradius)\n",
    "        egonet2.remove_nodes_from(egonet)\n",
    "        for n in egonet2.nodes():\n",
    "            if node != n and n in disc_nodes:\n",
    "                if marg_dict[node] > 0:\n",
    "                    if attrs[n] != attrs[node]:\n",
    "                        plausible.add_edge(node, n)\n",
    "                elif marg_dict[node] < 0:\n",
    "                    if attrs[n] == attrs[node]:\n",
    "                        plausible.add_edge(node, n)         \n",
    "                else:\n",
    "                    print(\"ERROR #1\")\n",
    "\n",
    "    possible_links = list(plausible.edges())"
   ]
  },
  {
   "cell_type": "code",
   "execution_count": 11,
   "id": "bebeac8a",
   "metadata": {},
   "outputs": [],
   "source": [
    "if mode == 0:\n",
    "    weak_links = []\n",
    "else:\n",
    "    #Betweenness centrality su archi\n",
    "    betweenness = nx.edge_betweenness_centrality(g) #dizionario di archi con score di B/W centrality\n",
    "\n",
    "    marg_betweenness = dict()\n",
    "    for k, v in betweenness.items():\n",
    "        if k[0] in disc_nodes and k[1] in disc_nodes:\n",
    "            if marg_dict[k[0]] > 0:\n",
    "                if attrs[k[0]] == attrs[k[1]]:\n",
    "                    marg_betweenness[k] = v\n",
    "            elif marg_dict[k[0]] < 0:\n",
    "                if attrs[k[0]] != attrs[k[1]]:\n",
    "                    marg_betweenness[k] = v\n",
    "            else:\n",
    "                print (\"ERROR #02\")\n",
    "\n",
    "    marg_betweenness = dict(sorted(marg_betweenness.items(), key=lambda item: item[1]))\n",
    "    weak_links = list(marg_betweenness.keys())[:round(len(marg_betweenness) * delete)]"
   ]
  },
  {
   "cell_type": "code",
   "execution_count": 12,
   "id": "a452e26a",
   "metadata": {},
   "outputs": [],
   "source": [
    "links = possible_links + weak_links #tutti i links con cui il GA opera"
   ]
  },
  {
   "cell_type": "code",
   "execution_count": null,
   "id": "46f5a6c7",
   "metadata": {},
   "outputs": [],
   "source": []
  },
  {
   "cell_type": "markdown",
   "id": "3820b77d",
   "metadata": {},
   "source": [
    "# MARK - MArginalization Reducer using linK"
   ]
  },
  {
   "cell_type": "code",
   "execution_count": 13,
   "id": "e7bcceb0-989b-4d0d-a8a2-506f6aeaa4b7",
   "metadata": {},
   "outputs": [],
   "source": [
    "def random_individual(links):\n",
    "    individual = []\n",
    "    for e in links:\n",
    "        individual.append(random.randint(0,1)) #1 = aggiunto/rimosso; 0 = do nothing\n",
    "    return individual "
   ]
  },
  {
   "cell_type": "code",
   "execution_count": 14,
   "id": "9ae8f0f2",
   "metadata": {},
   "outputs": [],
   "source": [
    "def evaluate(individual, g):\n",
    "    individual = individual[0] #<- because DEAP\n",
    "    score = 0\n",
    "    eva_g = copy.deepcopy(g)\n",
    "    indexes = [i for i, j in enumerate(individual) if j == 1]\n",
    "    new_links = [links[i] for i in indexes]\n",
    "\n",
    "    for l in new_links:\n",
    "        if l in possible_links:\n",
    "            eva_g.add_edge(l[0], l[1])\n",
    "        elif l in weak_links:\n",
    "            eva_g.remove_edge(l[0], l[1])\n",
    "            \n",
    "    for node in disc_nodes:\n",
    "        marg = 0\n",
    "        egonet = list(eva_g.neighbors(node)) + [node]\n",
    "        egonet_attrs = [attrs[n] for n in egonet]\n",
    "        count = dict(Counter(egonet_attrs))[attr]\n",
    "        size = len(egonet)\n",
    "        if size > 2:\n",
    "            marg = ((count * weights[attr] / (count * weights[attr] + (size-count)* (1 - weights[attr]))) - 0.5) * 2\n",
    "            if abs(marg) > threshold:\n",
    "                score += 1\n",
    "        \n",
    "    budget = sum(individual)\n",
    "            \n",
    "    return score, budget\n",
    "\n",
    "    #Fitness 1: nodi marginalizzati rimasti\n",
    "    #Fitness 2: link usati\n",
    "    \n",
    "    #A parità di nodi marginalizzati (il meno possibile), la soluzione con meno link usati è la migliore"
   ]
  },
  {
   "cell_type": "code",
   "execution_count": 15,
   "id": "6cf6791b",
   "metadata": {},
   "outputs": [],
   "source": [
    "creator.create(\"Fitness\", base.Fitness, weights=(-1.0,-1.0)) # <- -1 perché vogliamo minimizzare la fitness\n",
    "creator.create(\"Individual\", list, fitness=creator.Fitness) #<- l'individuo è definito come lista\n",
    "\n",
    "toolbox = base.Toolbox() #creiamo il toolbox\n",
    "\n",
    "toolbox.register(\"random_individual\", random_individual, links) \n",
    "#\"nome_della_funzione per deap\", nome_della_funzione vera e propria di python, parametri che passi alla funzione\n",
    "\n",
    "toolbox.register(\"individual\", tools.initRepeat, creator.Individual, \n",
    "                 toolbox.random_individual, n=1) \n",
    "# n = numero di individui nella popolazione. Lasciamo 1\n",
    "\n",
    "toolbox.register(\"population\", tools.initRepeat, list, toolbox.individual)\n",
    "\n",
    "toolbox.register(\"evaluate\", evaluate, g=g) #funzione di valutazione. Vedi quanto detto sopra\n",
    "toolbox.register(\"mate\", tools.cxTwoPoint) #funzione di crossover\n",
    "toolbox.register(\"mutate\", tools.mutFlipBit, indpb=0.05) #funzione di mutazione custom\n",
    "toolbox.register(\"select\", tools.selTournament, tournsize=3)\n",
    "#tools.selNSGA2) #funzione di selezione"
   ]
  },
  {
   "cell_type": "code",
   "execution_count": 16,
   "id": "5f6fac1a",
   "metadata": {
    "scrolled": false
   },
   "outputs": [
    {
     "name": "stdout",
     "output_type": "stream",
     "text": [
      "Marginalized nodes: 42 · Available links: 484\n",
      "gen\tnevals\tmin\tavg    \n",
      "0  \t150   \t11 \t16.7467\n",
      "1  \t89    \t11 \t15.2267\n",
      "2  \t78    \t11 \t14.04  \n",
      "3  \t107   \t11 \t13.6   \n",
      "4  \t103   \t10 \t13.14  \n",
      "5  \t101   \t9  \t12.72  \n",
      "6  \t94    \t8  \t12.2267\n",
      "7  \t98    \t8  \t11.6667\n",
      "8  \t100   \t8  \t11.3667\n",
      "9  \t90    \t8  \t10.76  \n",
      "10 \t84    \t7  \t10.0067\n",
      "11 \t99    \t6  \t9.50667\n",
      "12 \t103   \t6  \t9.01333\n",
      "13 \t106   \t5  \t8.65333\n",
      "14 \t100   \t5  \t8.20667\n",
      "15 \t95    \t5  \t7.84667\n",
      "16 \t91    \t5  \t7.2    \n",
      "17 \t85    \t5  \t6.73333\n",
      "18 \t103   \t5  \t6.44   \n",
      "19 \t96    \t5  \t6.26   \n",
      "20 \t91    \t5  \t5.96667\n",
      "21 \t87    \t5  \t5.84   \n",
      "22 \t98    \t5  \t5.76   \n",
      "23 \t85    \t5  \t5.8    \n",
      "24 \t90    \t5  \t5.78667\n",
      "25 \t90    \t5  \t5.69333\n",
      "26 \t83    \t5  \t5.77333\n",
      "27 \t101   \t4  \t5.88   \n",
      "28 \t94    \t4  \t5.70667\n",
      "29 \t92    \t4  \t5.76   \n",
      "30 \t98    \t4  \t5.76667\n",
      "31 \t98    \t4  \t5.95333\n",
      "32 \t92    \t4  \t5.81333\n",
      "33 \t101   \t4  \t5.62   \n",
      "34 \t99    \t4  \t5.56667\n",
      "35 \t86    \t4  \t5.46   \n",
      "36 \t108   \t4  \t5.57333\n",
      "37 \t94    \t4  \t5.22667\n",
      "38 \t94    \t4  \t5.12   \n",
      "39 \t93    \t4  \t5.24667\n",
      "40 \t94    \t4  \t5.12667\n",
      "41 \t102   \t4  \t4.88667\n",
      "42 \t102   \t4  \t5.27333\n",
      "43 \t83    \t4  \t4.91333\n",
      "44 \t92    \t4  \t4.85333\n",
      "45 \t81    \t4  \t4.85333\n",
      "46 \t97    \t4  \t5.02667\n",
      "47 \t93    \t4  \t4.89333\n",
      "48 \t88    \t4  \t4.78   \n",
      "49 \t100   \t4  \t5.18   \n",
      "50 \t113   \t4  \t5.17333\n"
     ]
    },
    {
     "data": {
      "text/plain": [
       "<Figure size 432x288 with 0 Axes>"
      ]
     },
     "metadata": {},
     "output_type": "display_data"
    },
    {
     "data": {
      "image/png": "[encoded data removed]",
      "text/plain": [
       "<Figure size 432x288 with 1 Axes>"
      ]
     },
     "metadata": {
      "needs_background": "light"
     },
     "output_type": "display_data"
    }
   ],
   "source": [
    "print('Marginalized nodes:', disc, '· Available links:', len(links))\n",
    "NUM_GENERATIONS = 50 #numero di generazioni\n",
    "POPULATION_SIZE = 150 #popolazione per gen\n",
    "\n",
    "CXPB, MUTPB = 0.5, 0.25 #crossover e mutation probability\n",
    "\n",
    "n_HOF = 10 #top soluzioni da ritornare (la \"Hall of Fame\" di DEAP è il set di tutte le top n soluzioni)\n",
    "\n",
    "pop = toolbox.population(n=POPULATION_SIZE)\n",
    "\n",
    "hof = tools.HallOfFame(n_HOF)\n",
    "\n",
    "stats = tools.Statistics(lambda ind: ind.fitness.values[0])   \n",
    "stats.register('min', np.min, axis = 0)\n",
    "stats.register('avg', np.mean, axis = 0)\n",
    "\n",
    "logbook = tools.Logbook()\n",
    "logbook.header = ['gen', 'nevals'] + stats.fields\n",
    "\n",
    "invalid_individuals = [ind for ind in pop if not ind.fitness.valid]\n",
    "fitnesses = toolbox.map(toolbox.evaluate, invalid_individuals)\n",
    "for ind, fit in zip(invalid_individuals, fitnesses):\n",
    "    ind.fitness.values = fit\n",
    "\n",
    "hof.update(pop)\n",
    "hof_size = len(hof.items)\n",
    "\n",
    "record = stats.compile(pop)\n",
    "logbook.record(gen=0, best=\"-\", nevals=len(invalid_individuals), **record)\n",
    "print(logbook.stream)\n",
    "\n",
    "for gen in range(1, NUM_GENERATIONS + 1):\n",
    "\n",
    "            # Select the next generation individuals\n",
    "    offspring = toolbox.select(pop, len(pop))\n",
    "    # Clone the selected individuals\n",
    "    offspring = list(map(toolbox.clone, offspring))\n",
    "\n",
    "\n",
    "    # Apply crossover and mutation on the offspring\n",
    "    for child1, child2 in zip(offspring[::2], offspring[1::2]):\n",
    "        if random.random() < CXPB:\n",
    "            toolbox.mate(child1[0], child2[0])\n",
    "            del child1.fitness.values\n",
    "            del child2.fitness.values\n",
    "\n",
    "    for mutant in offspring:\n",
    "        if random.random() < MUTPB:\n",
    "            toolbox.mutate(mutant[0])\n",
    "            del mutant.fitness.values\n",
    "\n",
    "\n",
    "    # Evaluate the individuals with an invalid fitness\n",
    "    invalid_ind = [ind for ind in offspring if not ind.fitness.valid]\n",
    "    fitnesses = map(toolbox.evaluate, invalid_ind)\n",
    "    for ind, fit in zip(invalid_ind, fitnesses):\n",
    "        ind.fitness.values = fit\n",
    "\n",
    "    # Update the hall of fame with the generated individuals\n",
    "    hof.update(offspring)\n",
    "\n",
    "    # Replace the current population by the offspring\n",
    "    pop[:] = offspring\n",
    "\n",
    "    # Append the current generation statistics to the logbook\n",
    "    record = stats.compile(pop) if stats else {}\n",
    "    logbook.record(gen=gen, nevals=len(invalid_ind), **record)\n",
    "    print(logbook.stream)\n",
    "\n",
    "\n",
    "hof.update(pop) # la HoF è aggiornata con la nuova popolazione (o meglio, i suoi individui migliori w.r.t. fitness)\n",
    "\n",
    "plt.figure(1)\n",
    "\n",
    "minFitnessValues, meanFitnessValues = logbook.select(\"min\", \"avg\")\n",
    "plt.figure(2)\n",
    "sns.set_style(\"whitegrid\")\n",
    "#plt.plot(maxFitnessValues, color='red')\n",
    "plt.plot(minFitnessValues, color='blue')\n",
    "plt.plot(meanFitnessValues, color='green')\n",
    "plt.xlabel('Generation')\n",
    "plt.ylabel('Marginalized Nodes')\n",
    "plt.title('Avg and Min Marginalized Nodes')\n",
    "# show both plots:\n",
    "plt.show()\n",
    "\n",
    "\n",
    "#return hof.items"
   ]
  },
  {
   "cell_type": "code",
   "execution_count": 39,
   "id": "cc7f8cc2",
   "metadata": {},
   "outputs": [
    {
     "name": "stdout",
     "output_type": "stream",
     "text": [
      "Marginalized nodes: 4.0 · Links: 228.0 · Percentage: 0.003034982162824131\n",
      "[0, 0, 1, 0, 0, 0, 1, 1, 0, 0, 0, 0, 0, 0, 0, 1, 1, 0, 1, 1, 0, 1, 0, 1, 0, 1, 1, 0, 1, 1, 0, 1, 1, 1, 1, 1, 0, 0, 1, 0, 1, 1, 0, 0, 1, 1, 1, 0, 1, 1, 0, 0, 1, 0, 0, 1, 0, 1, 0, 0, 1, 1, 0, 1, 1, 0, 0, 0, 1, 1, 0, 1, 0, 1, 1, 1, 1, 0, 0, 0, 0, 0, 1, 0, 1, 0, 0, 1, 0, 0, 0, 0, 1, 0, 0, 0, 1, 0, 0, 0, 0, 1, 0, 0, 1, 1, 1, 0, 1, 1, 1, 1, 0, 1, 1, 1, 0, 0, 0, 0, 0, 0, 0, 0, 1, 0, 0, 0, 1, 0, 0, 0, 1, 1, 0, 1, 1, 0, 0, 0, 0, 0, 1, 0, 0, 1, 0, 1, 1, 1, 0, 1, 0, 0, 0, 0, 1, 0, 1, 0, 1, 0, 0, 1, 0, 0, 1, 1, 0, 0, 0, 1, 0, 0, 0, 0, 0, 0, 0, 0, 0, 1, 1, 0, 0, 1, 0, 0, 0, 1, 0, 1, 0, 0, 0, 0, 0, 0, 0, 0, 0, 0, 0, 1, 0, 0, 1, 1, 0, 0, 0, 1, 0, 1, 0, 0, 1, 1, 1, 0, 0, 0, 1, 1, 0, 1, 0, 0, 0, 1, 0, 0, 0, 0, 0, 1, 1, 1, 0, 1, 0, 1, 0, 1, 0, 1, 1, 0, 1, 0, 1, 0, 1, 0, 0, 1, 1, 0, 1, 0, 1, 0, 1, 0, 0, 1, 1, 1, 0, 1, 0, 1, 0, 0, 1, 1, 1, 0, 1, 0, 1, 1, 1, 1, 1, 0, 0, 1, 1, 1, 0, 1, 0, 1, 1, 0, 1, 0, 1, 0, 0, 1, 0, 0, 1, 1, 0, 0, 0, 0, 1, 1, 0, 1, 1, 0, 0, 0, 0, 0, 1, 1, 1, 1, 0, 1, 0, 0, 0, 0, 0, 0, 1, 1, 1, 0, 1, 1, 1, 1, 1, 1, 1, 1, 1, 0, 1, 0, 1, 1, 1, 1, 0, 0, 1, 1, 1, 1, 1, 1, 1, 1, 0, 1, 1, 1, 0, 0, 0, 0, 1, 0, 1, 0, 0, 0, 1, 1, 1, 0, 0, 0, 0, 0, 0, 1, 1, 1, 0, 0, 0, 1, 1, 1, 1, 1, 0, 1, 1, 1, 0, 0, 1, 0, 1, 1, 1, 0, 1, 0, 0, 1, 1, 1, 0, 1, 1, 0, 1, 0, 1, 1, 1, 0, 1, 0, 1, 0, 0, 1, 1, 0, 0, 1, 1, 0, 0, 1, 1, 1, 0, 1, 1, 0, 1, 0, 0, 0, 0, 1, 1, 1, 0, 1, 0, 1, 0, 0, 0, 0, 0, 0, 0, 0, 1, 1, 1, 0, 0, 0, 0, 1, 1, 1, 1, 0, 0, 0, 1, 1, 0, 0, 1, 1]\n",
      "\n",
      "Marginalized nodes: 4.0 · Links: 228.0 · Percentage: 0.003034982162824131\n",
      "[0, 0, 1, 0, 0, 0, 1, 1, 0, 0, 0, 0, 0, 0, 0, 1, 1, 0, 1, 1, 0, 1, 0, 1, 0, 1, 1, 0, 1, 1, 0, 1, 1, 1, 1, 1, 0, 0, 1, 0, 1, 1, 0, 0, 1, 1, 1, 0, 1, 1, 0, 0, 1, 0, 0, 1, 0, 1, 0, 0, 1, 1, 0, 1, 1, 0, 0, 0, 1, 1, 0, 1, 0, 1, 1, 1, 1, 0, 0, 0, 0, 0, 1, 0, 1, 0, 0, 1, 0, 0, 0, 0, 1, 0, 0, 0, 1, 0, 0, 0, 0, 1, 0, 0, 1, 1, 1, 0, 1, 1, 1, 1, 0, 1, 1, 1, 0, 0, 0, 0, 0, 0, 0, 0, 1, 0, 0, 0, 1, 0, 0, 0, 1, 1, 0, 1, 1, 0, 0, 0, 0, 0, 1, 0, 0, 1, 0, 1, 1, 1, 0, 1, 0, 0, 0, 0, 1, 0, 1, 0, 1, 0, 0, 1, 0, 0, 1, 1, 0, 0, 0, 1, 0, 0, 0, 0, 0, 0, 0, 0, 0, 1, 1, 0, 0, 1, 0, 0, 0, 1, 0, 1, 0, 0, 0, 0, 0, 0, 0, 0, 0, 0, 0, 1, 0, 0, 1, 1, 0, 0, 0, 1, 0, 1, 0, 0, 1, 1, 1, 0, 0, 0, 1, 1, 0, 1, 0, 0, 0, 1, 0, 0, 0, 0, 0, 1, 1, 1, 0, 1, 0, 1, 0, 1, 0, 1, 1, 0, 1, 0, 1, 0, 1, 0, 0, 1, 1, 0, 1, 0, 1, 0, 1, 0, 0, 1, 1, 1, 0, 1, 0, 1, 0, 0, 1, 1, 1, 0, 1, 0, 1, 1, 1, 1, 1, 0, 0, 1, 1, 1, 0, 1, 0, 1, 1, 0, 1, 0, 1, 0, 0, 1, 0, 0, 1, 1, 0, 0, 0, 0, 1, 1, 0, 1, 1, 0, 0, 0, 0, 0, 1, 1, 1, 1, 0, 1, 0, 0, 0, 0, 0, 0, 1, 1, 1, 0, 1, 1, 1, 1, 1, 1, 1, 1, 1, 0, 1, 1, 1, 1, 1, 1, 0, 0, 1, 1, 0, 1, 1, 0, 1, 1, 0, 1, 0, 0, 1, 1, 1, 0, 1, 0, 1, 0, 0, 0, 1, 1, 1, 0, 0, 0, 0, 0, 0, 1, 1, 1, 0, 0, 0, 1, 1, 1, 1, 1, 0, 1, 1, 1, 0, 0, 1, 0, 1, 1, 1, 0, 1, 0, 0, 1, 1, 1, 0, 1, 1, 0, 1, 0, 1, 1, 1, 0, 1, 0, 1, 0, 0, 1, 1, 0, 0, 1, 1, 0, 0, 1, 1, 1, 0, 1, 1, 0, 1, 0, 0, 0, 0, 1, 1, 1, 0, 1, 0, 1, 0, 0, 0, 0, 0, 0, 0, 0, 1, 1, 1, 0, 0, 0, 0, 1, 1, 1, 1, 0, 0, 0, 1, 1, 0, 0, 1, 1]\n",
      "\n",
      "Marginalized nodes: 4.0 · Links: 229.0 · Percentage: 0.0030482934880996754\n",
      "[0, 0, 1, 0, 0, 0, 1, 1, 0, 0, 0, 0, 0, 0, 0, 1, 1, 0, 1, 1, 0, 1, 0, 1, 0, 1, 1, 0, 1, 1, 0, 1, 1, 1, 1, 1, 0, 0, 1, 0, 1, 1, 0, 0, 1, 1, 1, 0, 1, 1, 0, 0, 1, 0, 0, 1, 1, 1, 0, 0, 0, 1, 0, 1, 1, 0, 0, 1, 1, 1, 0, 1, 0, 1, 1, 1, 1, 0, 0, 0, 0, 0, 1, 0, 1, 0, 0, 1, 0, 0, 0, 0, 1, 0, 0, 0, 1, 0, 0, 0, 0, 1, 0, 0, 1, 1, 1, 0, 1, 1, 1, 1, 0, 1, 1, 1, 0, 0, 0, 0, 0, 0, 0, 0, 1, 0, 0, 0, 1, 0, 0, 0, 1, 1, 0, 1, 1, 0, 0, 0, 0, 0, 1, 0, 0, 1, 0, 1, 1, 1, 0, 1, 0, 0, 0, 0, 1, 0, 1, 0, 1, 0, 0, 1, 0, 0, 1, 1, 0, 0, 0, 1, 0, 0, 0, 0, 0, 0, 0, 0, 0, 1, 1, 0, 0, 1, 0, 0, 0, 1, 0, 1, 0, 0, 0, 0, 0, 0, 0, 0, 0, 0, 0, 1, 0, 0, 1, 1, 0, 0, 0, 1, 0, 1, 0, 0, 1, 1, 1, 0, 0, 0, 1, 1, 0, 1, 0, 0, 0, 1, 0, 0, 0, 0, 0, 1, 1, 1, 0, 1, 0, 1, 0, 1, 0, 1, 1, 0, 1, 0, 1, 0, 1, 0, 0, 1, 1, 0, 1, 0, 1, 0, 1, 0, 0, 1, 1, 1, 0, 1, 0, 1, 0, 0, 1, 1, 1, 0, 1, 0, 1, 1, 1, 1, 1, 0, 0, 1, 1, 1, 0, 1, 0, 1, 1, 0, 1, 0, 1, 0, 0, 1, 0, 0, 1, 1, 0, 0, 0, 0, 1, 1, 0, 1, 1, 0, 0, 0, 0, 0, 1, 1, 1, 1, 0, 1, 0, 0, 0, 0, 0, 0, 1, 1, 1, 0, 1, 1, 1, 1, 1, 1, 1, 1, 1, 0, 1, 1, 1, 1, 1, 1, 0, 0, 1, 1, 0, 1, 1, 0, 1, 1, 0, 1, 0, 0, 1, 1, 1, 0, 0, 0, 1, 1, 0, 0, 1, 1, 1, 1, 0, 0, 1, 0, 1, 0, 0, 1, 0, 0, 0, 1, 1, 1, 1, 1, 0, 1, 1, 1, 0, 0, 1, 0, 1, 1, 1, 1, 0, 0, 0, 0, 1, 1, 0, 1, 1, 0, 1, 0, 1, 1, 1, 0, 1, 0, 1, 0, 0, 1, 1, 0, 0, 1, 1, 0, 0, 1, 1, 1, 0, 1, 1, 0, 1, 0, 0, 0, 0, 1, 1, 1, 0, 1, 0, 1, 0, 0, 0, 0, 0, 0, 0, 0, 1, 1, 1, 0, 0, 0, 0, 1, 1, 1, 1, 0, 0, 0, 1, 1, 0, 0, 1, 1]\n",
      "\n"
     ]
    }
   ],
   "source": [
    "for e in hof.items[:3]:\n",
    "    print('Marginalized nodes:', e.fitness.values[0], '· Links:', e.fitness.values[1], '· Percentage:', e.fitness.values[1]/g.number_of_edges())\n",
    "    print(e[0])\n",
    "    print()"
   ]
  },
  {
   "cell_type": "code",
   "execution_count": 18,
   "id": "123412de",
   "metadata": {
    "tags": []
   },
   "outputs": [],
   "source": [
    "#best = hof.items[0][0]\n",
    "#index = [i for i, j in enumerate(best) if j == 1]\n",
    "#new_links = [links[i] for i in index]\n",
    "\n",
    "#new_links"
   ]
  },
  {
   "cell_type": "code",
   "execution_count": 19,
   "id": "ad555008",
   "metadata": {},
   "outputs": [
    {
     "name": "stdout",
     "output_type": "stream",
     "text": [
      "Marginalized nodes: 18 13 14 16 16 15 16 16 18 12 19 17 16 16 19 16 19 20 19 17 15 20 13 19 18 16 18 15 17 18 20 14 18 17 18 14 15 16 17 16 17 16 18 19 15 15 17 16 16 17 17 19 17 13 20 18 16 18 17 18 17 16 16 13 17 17 18 19 19 16 17 17 16 17 16 16 14 14 15 14 15 17 16 18 14 20 21 17 17 17 16 18 16 16 18 16 19 14 21 16 \n",
      "\n",
      "Avg: 16.71 · Min: 12\n"
     ]
    }
   ],
   "source": [
    "\n",
    "rans = []\n",
    "c = 0\n",
    "print(\"Marginalized nodes:\", end = ' ')\n",
    "while c < 100:\n",
    "    ran = random_individual(links)\n",
    "    print(evaluate([ran], g)[0], end = ' ')\n",
    "    rans.append(evaluate([ran], g)[0])\n",
    "    c = c+1\n",
    "print()\n",
    "print()\n",
    "print(\"Avg:\", np.mean(rans), \"· Min:\", min(rans))"
   ]
  },
  {
   "cell_type": "code",
   "execution_count": null,
   "id": "f0078ad4",
   "metadata": {},
   "outputs": [],
   "source": []
  },
  {
   "cell_type": "code",
   "execution_count": null,
   "id": "715c7ffe",
   "metadata": {},
   "outputs": [],
   "source": []
  }
 ],
 "metadata": {
  "kernelspec": {
   "display_name": "Python 3",
   "language": "python",
   "name": "python3"
  },
  "language_info": {
   "codemirror_mode": {
    "name": "ipython",
    "version": 3
   },
   "file_extension": ".py",
   "mimetype": "text/x-python",
   "name": "python",
   "nbconvert_exporter": "python",
   "pygments_lexer": "ipython3",
   "version": "3.8.8"
  }
 },
 "nbformat": 4,
 "nbformat_minor": 5
}
