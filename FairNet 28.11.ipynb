{
 "cells": [
  {
   "cell_type": "code",
   "execution_count": 1,
   "id": "66acfb85-2b23-40e3-b57d-4af082868917",
   "metadata": {},
   "outputs": [],
   "source": [
    "import pandas as pd\n",
    "import numpy as np\n",
    "import networkx as nx\n",
    "import seaborn as sns\n",
    "import matplotlib.cm as cm\n",
    "import matplotlib.pyplot as plt\n",
    "import random\n",
    "import copy\n",
    "\n",
    "from collections import Counter, defaultdict\n",
    "from deap import base, creator, tools\n",
    "from tqdm import tqdm"
   ]
  },
  {
   "cell_type": "code",
   "execution_count": 2,
   "id": "4ee362f0",
   "metadata": {},
   "outputs": [],
   "source": [
    "threshold = 0.3 #threshold di discriminazione\n",
    "egoradius = 2 #Per link da aggiungere - raggio dell'egonetwork\n",
    "delete = 0.5 #Per link da eliminare - top % con betweeness bassa rimovibili\n",
    "attr_name = 'gender'"
   ]
  },
  {
   "cell_type": "code",
   "execution_count": 3,
   "id": "120af3d4",
   "metadata": {},
   "outputs": [],
   "source": [
    "# add, remove, hybrid\n",
    "mode = 'add'"
   ]
  },
  {
   "cell_type": "code",
   "execution_count": 4,
   "id": "542c46ab",
   "metadata": {},
   "outputs": [],
   "source": [
    "fitness = 'marg'\n",
    "#marg = marginalization score => somma abs(marg) dei singoli nodi / n.nodi => [0, 1]\n",
    "#nodes = marginalized nodes"
   ]
  },
  {
   "cell_type": "code",
   "execution_count": 5,
   "id": "17a88840",
   "metadata": {},
   "outputs": [],
   "source": [
    "glob = True\n",
    "\n",
    "#True = guardiamo solo link fra discriminati - discriminati \"compatibili\"\n",
    "#False = guardiamo link fra discriminati - chiunque\n",
    "#in entrambi casi sempre dentro l'egoradius\n",
    "#e.g.: egoradius 2 => vicini-dei-vicini; 3 => vicini-dei-vicini + vicini-dei-vicini-dei-vicini\n"
   ]
  },
  {
   "cell_type": "code",
   "execution_count": 6,
   "id": "d92ecb9d",
   "metadata": {},
   "outputs": [],
   "source": [
    "remove_missing = True\n",
    "#True = rimuove\n",
    "#False = rimpiazza con GA"
   ]
  },
  {
   "cell_type": "markdown",
   "id": "2007c150",
   "metadata": {},
   "source": [
    "# AMARE MI VA- Attribute-aware MARginalization Estimator with MIssing VAlues"
   ]
  },
  {
   "cell_type": "code",
   "execution_count": 7,
   "id": "1c890509-942f-4750-ba01-98f1e5fcaecb",
   "metadata": {
    "scrolled": true
   },
   "outputs": [
    {
     "name": "stdout",
     "output_type": "stream",
     "text": [
      "loaded net\n",
      "loaded attributes\n"
     ]
    }
   ],
   "source": [
    "g = nx.Graph()\n",
    "g.name = 'copenhagen'\n",
    "with open('bt_symmetric.csv') as f:\n",
    "    for l in f.readlines()[1:]:\n",
    "        tid, a, b, rssi = l.rstrip().split(',')\n",
    "        g.add_edge(int(a),int(b), tid=tid)\n",
    "print('loaded net')\n",
    "\n",
    "attrs = {n: None for n in g.nodes()} # also fix missing data\n",
    "with open('genders.csv') as f:\n",
    "    for l in f.readlines()[1:]:\n",
    "        node, gender = l.rstrip().split(',')\n",
    "        attrs[int(node)] = gender\n",
    "    nx.set_node_attributes(g, attrs, name=attr_name) #probabilmente inutile\n",
    "print('loaded attributes')\n",
    "\n",
    "missing = []\n",
    "for n in attrs:\n",
    "    if attrs[n] is None:\n",
    "        missing.append(n)\n",
    "\n",
    "#g.remove_nodes_from(missing)\n",
    "#print('unlabeled removed')"
   ]
  },
  {
   "cell_type": "code",
   "execution_count": 8,
   "id": "4d6e85f7-0c4e-41b3-838f-6b680104bc76",
   "metadata": {},
   "outputs": [
    {
     "name": "stdout",
     "output_type": "stream",
     "text": [
      "Name: copenhagen\n",
      "Type: Graph\n",
      "Number of nodes: 708\n",
      "Number of edges: 80886\n",
      "Average degree: 228.4915\n"
     ]
    }
   ],
   "source": [
    "print(nx.info(g))"
   ]
  },
  {
   "cell_type": "code",
   "execution_count": null,
   "id": "6d261cd7",
   "metadata": {},
   "outputs": [],
   "source": []
  },
  {
   "cell_type": "code",
   "execution_count": 9,
   "id": "16e79485",
   "metadata": {},
   "outputs": [],
   "source": [
    "attrs = nx.get_node_attributes(g, attr_name)"
   ]
  },
  {
   "cell_type": "code",
   "execution_count": 10,
   "id": "608e6e69",
   "metadata": {},
   "outputs": [],
   "source": [
    "def random_individual(binary_list):\n",
    "    individual = []\n",
    "    for e in binary_list:\n",
    "        individual.append(random.randint(0,1)) \n",
    "        #with MV => 0: Attribute1; 1: Attribute2\n",
    "        #with links => 0: do nothing; 1: add/remove\n",
    "    return individual "
   ]
  },
  {
   "cell_type": "code",
   "execution_count": 11,
   "id": "8a88297f",
   "metadata": {},
   "outputs": [],
   "source": [
    "def evaluate_missing(individual, g, return_net):\n",
    "    individual = individual[0] #<- because DEAP\n",
    "    for node, attr in zip(missing, individual):\n",
    "        attrs[node] = str(attr)\n",
    "    \n",
    "    sizes = dict(Counter(list(attrs.values())))\n",
    "    sizes['0'] = (sizes['0'] - 1) / (len(g) - 1)\n",
    "    sizes['1'] = (sizes['1'] - 1) / (len(g) - 1)\n",
    "    weights = dict(Counter(list(attrs.values())))\n",
    "    weights['0'] = 1 - sizes['0']\n",
    "    weights['1'] = 1 - sizes['1']\n",
    "    \n",
    "    marg_dict = dict()\n",
    "\n",
    "    for node in g.nodes():\n",
    "        attr = attrs[node]\n",
    "\n",
    "        # COMPUTE MARGINALIZATION\n",
    "        marg = 0\n",
    "        egonet = list(g.neighbors(node))\n",
    "        egonet_attrs = [attrs[n] for n in egonet]\n",
    "        size = len(egonet_attrs)\n",
    "\n",
    "        if size > 2:\n",
    "            try:\n",
    "                count = dict(Counter(egonet_attrs))[attr]\n",
    "                marg = ((count * weights[attr] / (count * weights[attr] + (size-count)* (1 - weights[attr]))) - 0.5) * 2\n",
    "            except:\n",
    "                marg = 1\n",
    "        else:\n",
    "            marg = 0\n",
    "\n",
    "        marg_dict[node] = marg\n",
    "\n",
    "    disc_nodes = [k for k,v in marg_dict.items() if abs(v) > threshold]\n",
    "\n",
    "    ov_marg = np.mean([abs(v) for v in marg_dict.values()]) #network marginalization score\n",
    "    \n",
    "    if return_net:\n",
    "        return attrs, weights, marg_dict, disc_nodes, ov_marg#, base_marg\n",
    "    \n",
    "    if fitness == 'marg':\n",
    "        return ov_marg, len(disc_nodes)\n",
    "    elif fitness == 'nodes':\n",
    "        return len(disc_nodes), ov_marg\n",
    "\n"
   ]
  },
  {
   "cell_type": "code",
   "execution_count": null,
   "id": "cf729457",
   "metadata": {},
   "outputs": [],
   "source": []
  },
  {
   "cell_type": "code",
   "execution_count": 12,
   "id": "01eeacf0",
   "metadata": {
    "scrolled": false
   },
   "outputs": [
    {
     "name": "stderr",
     "output_type": "stream",
     "text": [
      "100%|██████████| 673/673 [00:00<00:00, 41920.62it/s]"
     ]
    },
    {
     "name": "stdout",
     "output_type": "stream",
     "text": [
      "35 nodes with missing labels removed\n",
      "\n",
      "Marginalized nodes: 38 5.65\n",
      "Network Marginalization Score: 0.10877333738775614\n"
     ]
    },
    {
     "name": "stderr",
     "output_type": "stream",
     "text": [
      "\n"
     ]
    },
    {
     "data": {
      "image/png": "[encoded data removed]",
      "text/plain": [
       "<Figure size 432x288 with 1 Axes>"
      ]
     },
     "metadata": {
      "needs_background": "light"
     },
     "output_type": "display_data"
    }
   ],
   "source": [
    "if remove_missing:\n",
    "    g.remove_nodes_from(missing)\n",
    "    print(len(missing), 'nodes with missing labels removed')\n",
    "    \n",
    "    attrs = nx.get_node_attributes(g, attr_name)\n",
    "    \n",
    "    sizes = dict(Counter(list(attrs.values())))\n",
    "    sizes['0'] = (sizes['0'] - 1) / (len(g) - 1)\n",
    "    sizes['1'] = (sizes['1'] - 1) / (len(g) - 1)\n",
    "    weights = dict(Counter(list(attrs.values())))\n",
    "    weights['0'] = 1 - sizes['0']\n",
    "    weights['1'] = 1 - sizes['1']\n",
    "    \n",
    "    marg_dict = dict()\n",
    "\n",
    "    for node in tqdm(g.nodes()):\n",
    "        attr = attrs[node]\n",
    "\n",
    "        # COMPUTE MARGINALIZATION\n",
    "        marg = 0\n",
    "        egonet = list(g.neighbors(node)) #+ [node]\n",
    "        egonet_attrs = [attrs[n] for n in egonet]\n",
    "        size = len(egonet_attrs)\n",
    "\n",
    "        if size > 2:\n",
    "            try:\n",
    "                count = dict(Counter(egonet_attrs))[attr]\n",
    "                marg = ((count * weights[attr] / (count * weights[attr] + (size-count)* (1 - weights[attr]))) - 0.5) * 2\n",
    "            except:\n",
    "                marg = 1\n",
    "        else:\n",
    "            marg = 0\n",
    "\n",
    "        marg_dict[node] = marg\n",
    "\n",
    "    disc_nodes = [k for k,v in marg_dict.items() if abs(v) > threshold]\n",
    "    disc = len(disc_nodes)\n",
    "\n",
    "    ov_marg = np.mean([abs(v) for v in marg_dict.values()]) #network marginalization score\n",
    "\n",
    "else: #vogliamo rimpiazzare MV\n",
    "    return_net = False #if True, eva function returns the fair network. INSIDE THE GA, IT MUST BE FALSE\n",
    "\n",
    "    creator.create(\"Fitness\", base.Fitness, weights=(-1.0,-1.0)) # <- -1 perché vogliamo minimizzare la fitness\n",
    "    creator.create(\"Individual\", list, fitness=creator.Fitness) #<- l'individuo è definito come lista\n",
    "\n",
    "    toolbox = base.Toolbox() #creiamo il toolbox\n",
    "\n",
    "    toolbox.register(\"random_individual\", random_individual, missing) \n",
    "    #\"nome_della_funzione per deap\", nome_della_funzione vera e propria di python, parametri che passi alla funzione\n",
    "\n",
    "    toolbox.register(\"individual\", tools.initRepeat, creator.Individual, \n",
    "                     toolbox.random_individual, n=1) \n",
    "    # n = numero di individui nella popolazione. Lasciamo 1\n",
    "\n",
    "    toolbox.register(\"population\", tools.initRepeat, list, toolbox.individual)\n",
    "\n",
    "    toolbox.register(\"evaluate_missing\", evaluate_missing, g=g, return_net=return_net) #funzione di valutazione. Vedi quanto detto sopra\n",
    "    toolbox.register(\"mate\", tools.cxTwoPoint) #funzione di crossover\n",
    "    toolbox.register(\"mutate\", tools.mutFlipBit, indpb=0.05) #funzione di mutazione custom\n",
    "    toolbox.register(\"select\", tools.selTournament, tournsize=3)\n",
    "    #tools.selNSGA2) #funzione di selezione\n",
    "\n",
    "    print('Fitness:', fitness)\n",
    "    NUM_GENERATIONS = 30 #numero di generazioni\n",
    "    POPULATION_SIZE = 150 #popolazione per gen\n",
    "\n",
    "    CXPB, MUTPB = 0.5, 0.25 #crossover e mutation probability\n",
    "\n",
    "    n_HOF = 10 #top soluzioni da ritornare (la \"Hall of Fame\" di DEAP è il set di tutte le top n soluzioni)\n",
    "\n",
    "    pop = toolbox.population(n=POPULATION_SIZE)\n",
    "\n",
    "    hof = tools.HallOfFame(n_HOF)\n",
    "\n",
    "    stats = tools.Statistics(lambda ind: ind.fitness.values[0])   \n",
    "    stats.register('min', np.min, axis = 0)\n",
    "    stats.register('avg', np.mean, axis = 0)\n",
    "\n",
    "    logbook = tools.Logbook()\n",
    "    logbook.header = ['gen', 'nevals'] + stats.fields\n",
    "\n",
    "    invalid_individuals = [ind for ind in pop if not ind.fitness.valid]\n",
    "    fitnesses = toolbox.map(toolbox.evaluate_missing, invalid_individuals)\n",
    "    for ind, fit in zip(invalid_individuals, fitnesses):\n",
    "        ind.fitness.values = fit\n",
    "\n",
    "    hof.update(pop)\n",
    "    hof_size = len(hof.items)\n",
    "\n",
    "    record = stats.compile(pop)\n",
    "    logbook.record(gen=0, best=\"-\", nevals=len(invalid_individuals), **record)\n",
    "    print(logbook.stream)\n",
    "\n",
    "    for gen in range(1, NUM_GENERATIONS + 1):\n",
    "\n",
    "                # Select the next generation individuals\n",
    "        offspring = toolbox.select(pop, len(pop))\n",
    "        # Clone the selected individuals\n",
    "        offspring = list(map(toolbox.clone, offspring))\n",
    "\n",
    "\n",
    "        # Apply crossover and mutation on the offspring\n",
    "        for child1, child2 in zip(offspring[::2], offspring[1::2]):\n",
    "            if random.random() < CXPB:\n",
    "                toolbox.mate(child1[0], child2[0])\n",
    "                del child1.fitness.values\n",
    "                del child2.fitness.values\n",
    "\n",
    "        for mutant in offspring:\n",
    "            if random.random() < MUTPB:\n",
    "                toolbox.mutate(mutant[0])\n",
    "                del mutant.fitness.values\n",
    "\n",
    "\n",
    "        # Evaluate the individuals with an invalid fitness\n",
    "        invalid_ind = [ind for ind in offspring if not ind.fitness.valid]\n",
    "        fitnesses = map(toolbox.evaluate_missing, invalid_ind)\n",
    "        for ind, fit in zip(invalid_ind, fitnesses):\n",
    "            ind.fitness.values = fit\n",
    "\n",
    "        # Update the hall of fame with the generated individuals\n",
    "        hof.update(offspring)\n",
    "\n",
    "        # Replace the current population by the offspring\n",
    "        pop[:] = offspring\n",
    "\n",
    "        # Append the current generation statistics to the logbook\n",
    "        record = stats.compile(pop) if stats else {}\n",
    "        logbook.record(gen=gen, nevals=len(invalid_ind), **record)\n",
    "        print(logbook.stream)\n",
    "\n",
    "\n",
    "    hof.update(pop) # la HoF è aggiornata con la nuova popolazione (o meglio, i suoi individui migliori w.r.t. fitness)\n",
    "\n",
    "    plt.figure(1)\n",
    "\n",
    "    minFitnessValues, meanFitnessValues = logbook.select(\"min\", \"avg\")\n",
    "    plt.figure(2)\n",
    "    sns.set_style(\"whitegrid\")\n",
    "    #plt.plot(maxFitnessValues, color='red')\n",
    "    plt.plot(minFitnessValues, color='blue')\n",
    "    plt.plot(meanFitnessValues, color='green')\n",
    "    plt.xlabel('Generation')\n",
    "    if fitness == 'nodes':\n",
    "        plt.ylabel('Marginalized Nodes')\n",
    "        plt.title('Avg and Min Marginalized Nodes')\n",
    "    elif fitness == 'marg':\n",
    "        plt.ylabel('Marginalization Score')\n",
    "        plt.title('Avg and Min Marginalization Score')    \n",
    "    # show both plots:\n",
    "    plt.show()\n",
    "\n",
    "\n",
    "    attrs, weights, marg_dict, disc_nodes, ov_marg = evaluate_missing(hof.items[0], g, True)\n",
    "    nx.set_node_attributes(g, attrs, name=attr_name)\n",
    "    print('Replaced', len(missing), 'missing labels')\n",
    "\n",
    "\n",
    "print(\"\")\n",
    "print(\"Marginalized nodes:\", len(disc_nodes), round(len(disc_nodes) * 100 / len(g.nodes()), 2))\n",
    "print(\"Network Marginalization Score:\", ov_marg)\n",
    "sns.set_style(\"whitegrid\")\n",
    "fig, ax = plt.subplots()\n",
    "sns.kdeplot(list(marg_dict.values()), ax=ax)\n",
    "plt.xlabel('Marginalization Scores')\n",
    "ax.set_xlim(-1, 1)\n",
    "plt.show()"
   ]
  },
  {
   "cell_type": "code",
   "execution_count": 13,
   "id": "f5876276",
   "metadata": {},
   "outputs": [
    {
     "name": "stderr",
     "output_type": "stream",
     "text": [
      "100%|██████████| 673/673 [00:00<00:00, 45571.12it/s]\n"
     ]
    },
    {
     "name": "stdout",
     "output_type": "stream",
     "text": [
      "\n",
      "Marginalized nodes: 38 5.65\n",
      "Network Marginalization Score: 0.10877333738775614\n"
     ]
    },
    {
     "data": {
      "image/png": "[encoded data removed]",
      "text/plain": [
       "<Figure size 432x288 with 1 Axes>"
      ]
     },
     "metadata": {
      "needs_background": "light"
     },
     "output_type": "display_data"
    }
   ],
   "source": [
    "sizes = dict(Counter(list(attrs.values())))\n",
    "sizes['0'] = (sizes['0'] - 1) / (len(g) - 1)\n",
    "sizes['1'] = (sizes['1'] - 1) / (len(g) - 1)\n",
    "weights = dict(Counter(list(attrs.values())))\n",
    "weights['0'] = 1 - sizes['0']\n",
    "weights['1'] = 1 - sizes['1']\n",
    "\n",
    "marg_dict = dict()\n",
    "\n",
    "for node in tqdm(g.nodes()):\n",
    "    attr = attrs[node]\n",
    "\n",
    "    marg = 0\n",
    "    egonet = list(g.neighbors(node)) #+ [node]\n",
    "    egonet_attrs = [attrs[n] for n in egonet]\n",
    "    size = len(egonet_attrs)\n",
    "\n",
    "    if size > 2:\n",
    "        try:\n",
    "            count = dict(Counter(egonet_attrs))[attr]\n",
    "            marg = ((count * weights[attr] / (count * weights[attr] + (size-count)* (1 - weights[attr]))) - 0.5) * 2\n",
    "        except:\n",
    "            marg = 1\n",
    "    else:\n",
    "        marg = 0\n",
    "\n",
    "    marg_dict[node] = marg\n",
    "\n",
    "disc_nodes = [k for k,v in marg_dict.items() if abs(v) > threshold]\n",
    "disc = len(disc_nodes)\n",
    "\n",
    "ov_marg = np.mean([abs(v) for v in marg_dict.values()]) #network marginalization score\n",
    "\n",
    "print(\"\")\n",
    "print(\"Marginalized nodes:\", len(disc_nodes), round(len(disc_nodes) * 100 / len(g.nodes()), 2))\n",
    "print(\"Network Marginalization Score:\", ov_marg)\n",
    "\n",
    "fig, ax = plt.subplots()\n",
    "sns.kdeplot(list(marg_dict.values()), ax=ax)\n",
    "plt.xlabel('Marginalization Scores')\n",
    "ax.set_xlim(-1, 1)\n",
    "plt.show()"
   ]
  },
  {
   "cell_type": "code",
   "execution_count": 14,
   "id": "16f335af",
   "metadata": {},
   "outputs": [
    {
     "name": "stderr",
     "output_type": "stream",
     "text": [
      "100%|██████████| 38/38 [00:08<00:00,  4.22it/s]\n"
     ]
    }
   ],
   "source": [
    "if mode == 'remove': #se solo rimozione, non vengono aggiunti\n",
    "    possible_links = [] \n",
    "else:\n",
    "    plausible = nx.Graph() # stores plausible links\n",
    "\n",
    "    for node in tqdm(disc_nodes):\n",
    "        egonet = list(g.neighbors(node)) #+ [node]\n",
    "        egonet2 = nx.ego_graph(g, node, center=False, radius=egoradius)\n",
    "        egonet2.remove_nodes_from(egonet)\n",
    "        if glob:\n",
    "            for n in egonet2.nodes():\n",
    "                if node != n and n in disc_nodes:\n",
    "                    if marg_dict[node] > 0:\n",
    "                        if attrs[n] != attrs[node]:\n",
    "                            plausible.add_edge(node, n)\n",
    "                    elif marg_dict[node] < 0:\n",
    "                        if attrs[n] == attrs[node]:\n",
    "                            plausible.add_edge(node, n)         \n",
    "                    else:\n",
    "                        print(\"ERROR #01\")\n",
    "        else:\n",
    "            for n in egonet2.nodes():\n",
    "                if node != n:\n",
    "                    plausible.add_edge(node, n)\n",
    "                    \n",
    "                \n",
    "    possible_links = list(plausible.edges())"
   ]
  },
  {
   "cell_type": "code",
   "execution_count": 15,
   "id": "bebeac8a",
   "metadata": {},
   "outputs": [],
   "source": [
    "if mode == 'add': #se solo aggiunta, non vengono rimossi\n",
    "    weak_links = []\n",
    "else:\n",
    "    #Betweenness centrality su archi\n",
    "    betweenness = nx.edge_betweenness_centrality(g) #dizionario di archi con score di BW centrality\n",
    "\n",
    "    marg_betweenness = dict()\n",
    "    \n",
    "    if glob:\n",
    "        for k, v in tqdm(betweenness.items()):\n",
    "            if k[0] in disc_nodes and k[1] in disc_nodes:\n",
    "                if marg_dict[k[0]] > 0:\n",
    "                    if attrs[k[0]] == attrs[k[1]]:\n",
    "                        marg_betweenness[k] = v\n",
    "                elif marg_dict[k[0]] < 0:\n",
    "                    if attrs[k[0]] != attrs[k[1]]:\n",
    "                        marg_betweenness[k] = v\n",
    "                else:\n",
    "                    print (\"ERROR #02\")        \n",
    "    else:\n",
    "        for k, v in tqdm(betweenness.items()):\n",
    "            if k[0] in disc_nodes or k[1] in disc_nodes: \n",
    "                    marg_betweenness[k] = v\n",
    "    \n",
    "    marg_betweenness = dict(sorted(marg_betweenness.items(), key=lambda item: item[1]))\n",
    "    weak_links = list(marg_betweenness.keys())[:round(len(marg_betweenness) * delete)]\n"
   ]
  },
  {
   "cell_type": "code",
   "execution_count": 16,
   "id": "42710684",
   "metadata": {},
   "outputs": [
    {
     "name": "stdout",
     "output_type": "stream",
     "text": [
      "Links: 427\n"
     ]
    }
   ],
   "source": [
    "links = possible_links + weak_links #tutti i links con cui il GA opera\n",
    "print(\"Links:\", len(links))"
   ]
  },
  {
   "cell_type": "markdown",
   "id": "3820b77d",
   "metadata": {},
   "source": [
    "# MARK - MArginalization Reducer using linK"
   ]
  },
  {
   "cell_type": "code",
   "execution_count": 17,
   "id": "e7bcceb0-989b-4d0d-a8a2-506f6aeaa4b7",
   "metadata": {},
   "outputs": [],
   "source": [
    "#def random_individual(links):\n",
    " #   individual = []\n",
    "  #  for e in links:\n",
    "   #     individual.append(random.randint(0,1)) #1 = aggiunto/rimosso; 0 = do nothing\n",
    "    #return individual "
   ]
  },
  {
   "cell_type": "code",
   "execution_count": 18,
   "id": "9ae8f0f2",
   "metadata": {},
   "outputs": [],
   "source": [
    "def evaluate(individual, g, return_net):\n",
    "    individual = individual[0] #<- because DEAP\n",
    "        \n",
    "    eva_g = copy.deepcopy(g) #copy of OG network, modified for testing the solution\n",
    "    \n",
    "    indexes = [i for i, j in enumerate(individual) if j == 1]\n",
    "    new_links = [links[i] for i in indexes]\n",
    "    \n",
    "    node_list = list(set(list(sum(new_links,())))) #nodes affected by tested solution\n",
    "\n",
    "    nodes = 0 #amount of marginalized nodes in network after applying the solution\n",
    "    fair_marg = [abs(v) for k, v in marg_dict.items() if k not in node_list] #marg score of network after applying the solution\n",
    "    \n",
    "    for l in new_links:\n",
    "        if l in possible_links:\n",
    "            eva_g.add_edge(l[0], l[1])\n",
    "        elif l in weak_links:\n",
    "            eva_g.remove_edge(l[0], l[1])\n",
    "            \n",
    "    for node in node_list:\n",
    "        attr = attrs[node] ###aggiunto\n",
    "\n",
    "        egonet = list(eva_g.neighbors(node)) #+ [node]\n",
    "        egonet_attrs = [attrs[n] for n in egonet]\n",
    "        size = len(egonet)\n",
    "\n",
    "        if size > 2:\n",
    "            try:\n",
    "                count = dict(Counter(egonet_attrs))[attr]\n",
    "                marg = ((count * weights[attr] / (count * weights[attr] + (size-count)* (1 - weights[attr]))) - 0.5) * 2\n",
    "            except:\n",
    "                marg = 1\n",
    "        else:\n",
    "            marg = 0\n",
    "\n",
    "        fair_marg.append(abs(marg))\n",
    "        if abs(marg) > threshold:\n",
    "            nodes += 1\n",
    "                \n",
    "    budget = sum(individual) #i.e., links added/removed. Less is better\n",
    "    \n",
    "    if return_net:\n",
    "        return nodes, np.mean(fair_marg), budget, eva_g\n",
    "    \n",
    "    if fitness == 'nodes':      \n",
    "        return nodes, budget\n",
    "    elif fitness == 'marg':\n",
    "        return np.mean(fair_marg), budget\n",
    "    else:\n",
    "        print (\"ERROR #03\")\n",
    "        "
   ]
  },
  {
   "cell_type": "code",
   "execution_count": 19,
   "id": "6cf6791b",
   "metadata": {},
   "outputs": [],
   "source": [
    "return_net = False #if True, eva function returns the fair network. INSIDE THE GA, IT MUST BE FALSE\n",
    "\n",
    "creator.create(\"Fitness\", base.Fitness, weights=(-1.0,-1.0)) # <- -1 perché vogliamo minimizzare la fitness\n",
    "creator.create(\"Individual\", list, fitness=creator.Fitness) #<- l'individuo è definito come lista\n",
    "\n",
    "toolbox = base.Toolbox() #creiamo il toolbox\n",
    "\n",
    "toolbox.register(\"random_individual\", random_individual, links) \n",
    "#\"nome_della_funzione per deap\", nome_della_funzione vera e propria di python, parametri che passi alla funzione\n",
    "\n",
    "toolbox.register(\"individual\", tools.initRepeat, creator.Individual, \n",
    "                 toolbox.random_individual, n=1) \n",
    "# n = numero di individui nella popolazione. Lasciamo 1\n",
    "\n",
    "toolbox.register(\"population\", tools.initRepeat, list, toolbox.individual)\n",
    "\n",
    "toolbox.register(\"evaluate\", evaluate, g=g, return_net=return_net) #funzione di valutazione. Vedi quanto detto sopra\n",
    "toolbox.register(\"mate\", tools.cxTwoPoint) #funzione di crossover\n",
    "toolbox.register(\"mutate\", tools.mutFlipBit, indpb=0.05) #funzione di mutazione custom\n",
    "toolbox.register(\"select\", tools.selTournament, tournsize=3)\n",
    "#tools.selNSGA2) #funzione di selezione"
   ]
  },
  {
   "cell_type": "code",
   "execution_count": 20,
   "id": "5f6fac1a",
   "metadata": {
    "scrolled": true
   },
   "outputs": [
    {
     "name": "stdout",
     "output_type": "stream",
     "text": [
      "Marg nodes: 38 · Marg Score: 0.10877333738775614 · Available links: 427\n",
      "Fitness: marg\n",
      "gen\tnevals\tmin      \tavg      \n",
      "0  \t150   \t0.0972417\t0.0988545\n",
      "1  \t95    \t0.0970279\t0.0982713\n",
      "2  \t88    \t0.0969098\t0.097973 \n",
      "3  \t101   \t0.0966532\t0.0977541\n",
      "4  \t90    \t0.0965039\t0.097464 \n",
      "5  \t87    \t0.0961314\t0.0973545\n",
      "6  \t80    \t0.0961314\t0.0971232\n",
      "7  \t90    \t0.0957356\t0.0968569\n",
      "8  \t105   \t0.095492 \t0.0966393\n",
      "9  \t79    \t0.095492 \t0.0963788\n",
      "10 \t87    \t0.0954988\t0.0961884\n",
      "11 \t83    \t0.0954212\t0.0959417\n",
      "12 \t102   \t0.0951459\t0.0958572\n",
      "13 \t83    \t0.0952037\t0.0957135\n",
      "14 \t97    \t0.0950647\t0.0956593\n",
      "15 \t97    \t0.0950508\t0.0955311\n",
      "16 \t98    \t0.0948506\t0.0954614\n",
      "17 \t103   \t0.0948436\t0.0953575\n",
      "18 \t104   \t0.0947485\t0.0953593\n",
      "19 \t106   \t0.0945588\t0.0952505\n",
      "20 \t111   \t0.0945536\t0.095229 \n",
      "21 \t87    \t0.0945536\t0.0951057\n",
      "22 \t82    \t0.0945536\t0.0949734\n",
      "23 \t110   \t0.0942857\t0.095089 \n",
      "24 \t91    \t0.0942548\t0.0949345\n",
      "25 \t96    \t0.0941059\t0.094752 \n",
      "26 \t99    \t0.0940755\t0.0946773\n",
      "27 \t81    \t0.0940809\t0.0944532\n",
      "28 \t101   \t0.093883 \t0.094385 \n",
      "29 \t94    \t0.0937082\t0.0943721\n",
      "30 \t94    \t0.0937082\t0.0942481\n"
     ]
    },
    {
     "data": {
      "text/plain": [
       "<Figure size 432x288 with 0 Axes>"
      ]
     },
     "metadata": {},
     "output_type": "display_data"
    },
    {
     "data": {
      "image/png": "[encoded data removed]",
      "text/plain": [
       "<Figure size 432x288 with 1 Axes>"
      ]
     },
     "metadata": {
      "needs_background": "light"
     },
     "output_type": "display_data"
    }
   ],
   "source": [
    "print('Marg nodes:', len(disc_nodes), '· Marg Score:', ov_marg, '· Available links:', len(links))\n",
    "print('Fitness:', fitness)\n",
    "NUM_GENERATIONS = 30 #numero di generazioni\n",
    "POPULATION_SIZE = 150 #popolazione per gen\n",
    "\n",
    "CXPB, MUTPB = 0.5, 0.25 #crossover e mutation probability\n",
    "\n",
    "n_HOF = 10 #top soluzioni da ritornare (la \"Hall of Fame\" di DEAP è il set di tutte le top n soluzioni)\n",
    "\n",
    "pop = toolbox.population(n=POPULATION_SIZE)\n",
    "\n",
    "hof = tools.HallOfFame(n_HOF)\n",
    "\n",
    "stats = tools.Statistics(lambda ind: ind.fitness.values[0])   \n",
    "stats.register('min', np.min, axis = 0)\n",
    "stats.register('avg', np.mean, axis = 0)\n",
    "\n",
    "logbook = tools.Logbook()\n",
    "logbook.header = ['gen', 'nevals'] + stats.fields\n",
    "\n",
    "invalid_individuals = [ind for ind in pop if not ind.fitness.valid]\n",
    "fitnesses = toolbox.map(toolbox.evaluate, invalid_individuals)\n",
    "for ind, fit in zip(invalid_individuals, fitnesses):\n",
    "    ind.fitness.values = fit\n",
    "\n",
    "hof.update(pop)\n",
    "hof_size = len(hof.items)\n",
    "\n",
    "record = stats.compile(pop)\n",
    "logbook.record(gen=0, best=\"-\", nevals=len(invalid_individuals), **record)\n",
    "print(logbook.stream)\n",
    "\n",
    "for gen in range(1, NUM_GENERATIONS + 1):\n",
    "\n",
    "            # Select the next generation individuals\n",
    "    offspring = toolbox.select(pop, len(pop))\n",
    "    # Clone the selected individuals\n",
    "    offspring = list(map(toolbox.clone, offspring))\n",
    "\n",
    "\n",
    "    # Apply crossover and mutation on the offspring\n",
    "    for child1, child2 in zip(offspring[::2], offspring[1::2]):\n",
    "        if random.random() < CXPB:\n",
    "            toolbox.mate(child1[0], child2[0])\n",
    "            del child1.fitness.values\n",
    "            del child2.fitness.values\n",
    "\n",
    "    for mutant in offspring:\n",
    "        if random.random() < MUTPB:\n",
    "            toolbox.mutate(mutant[0])\n",
    "            del mutant.fitness.values\n",
    "\n",
    "\n",
    "    # Evaluate the individuals with an invalid fitness\n",
    "    invalid_ind = [ind for ind in offspring if not ind.fitness.valid]\n",
    "    fitnesses = map(toolbox.evaluate, invalid_ind)\n",
    "    for ind, fit in zip(invalid_ind, fitnesses):\n",
    "        ind.fitness.values = fit\n",
    "\n",
    "    # Update the hall of fame with the generated individuals\n",
    "    hof.update(offspring)\n",
    "\n",
    "    # Replace the current population by the offspring\n",
    "    pop[:] = offspring\n",
    "\n",
    "    # Append the current generation statistics to the logbook\n",
    "    record = stats.compile(pop) if stats else {}\n",
    "    logbook.record(gen=gen, nevals=len(invalid_ind), **record)\n",
    "    print(logbook.stream)\n",
    "\n",
    "\n",
    "hof.update(pop) # la HoF è aggiornata con la nuova popolazione (o meglio, i suoi individui migliori w.r.t. fitness)\n",
    "\n",
    "plt.figure(1)\n",
    "\n",
    "minFitnessValues, meanFitnessValues = logbook.select(\"min\", \"avg\")\n",
    "plt.figure(2)\n",
    "sns.set_style(\"whitegrid\")\n",
    "#plt.plot(maxFitnessValues, color='red')\n",
    "plt.plot(minFitnessValues, color='blue')\n",
    "plt.plot(meanFitnessValues, color='green')\n",
    "plt.xlabel('Generation')\n",
    "if fitness == 'nodes':\n",
    "    plt.ylabel('Marginalized Nodes')\n",
    "    plt.title('Avg and Min Marginalized Nodes')\n",
    "elif fitness == 'marg':\n",
    "    plt.ylabel('Marginalization Score')\n",
    "    plt.title('Avg and Min Marginalization Score')    \n",
    "# show both plots:\n",
    "plt.show()\n",
    "\n",
    "\n",
    "#return hof.items"
   ]
  },
  {
   "cell_type": "code",
   "execution_count": 21,
   "id": "e31a0c9a",
   "metadata": {},
   "outputs": [],
   "source": [
    "best = hof.items[0][0]"
   ]
  },
  {
   "cell_type": "code",
   "execution_count": 22,
   "id": "6fb484a8",
   "metadata": {},
   "outputs": [
    {
     "name": "stdout",
     "output_type": "stream",
     "text": [
      "Marg Nodes: 7 · Prev: 38\n",
      "Marg Score: 0.09370815890208072 · Prev: 0.10877333738775614\n",
      "Links: 75364 · Prev: 75124\n",
      "Added links: 240\n"
     ]
    }
   ],
   "source": [
    "fair_nodes, fair_score, fair_budget, fair_net = evaluate([best], g, True)\n",
    "\n",
    "print (\"Marg Nodes:\", fair_nodes, '· Prev:', len(disc_nodes))\n",
    "print (\"Marg Score:\", np.mean(fair_score), '· Prev:', ov_marg)\n",
    "print (\"Links:\", fair_net.number_of_edges(), '· Prev:', g.number_of_edges())\n",
    "if mode == 'add': \n",
    "    print (\"Added links:\", fair_budget)\n",
    "elif mode == 'remove':\n",
    "    print (\"Removed links:\", fair_budget)\n",
    "elif mode == 'hybrid':\n",
    "    print (\"Modified links:\", fair_budget)\n",
    "    added = fair_net.number_of_edges() - g.number_of_edges()\n",
    "    print (\"-- of which added:\", added)\n",
    "    print (\"-- of which removed:\", fair_budget - added)"
   ]
  },
  {
   "cell_type": "code",
   "execution_count": 23,
   "id": "c93d8ebb",
   "metadata": {},
   "outputs": [
    {
     "name": "stderr",
     "output_type": "stream",
     "text": [
      "100%|██████████| 673/673 [00:00<00:00, 43880.84it/s]"
     ]
    },
    {
     "name": "stdout",
     "output_type": "stream",
     "text": [
      "\n",
      "Marginalized nodes: 7 1.04\n",
      "Network Marginalization Score: 0.09370815890208072\n"
     ]
    },
    {
     "name": "stderr",
     "output_type": "stream",
     "text": [
      "\n"
     ]
    },
    {
     "data": {
      "image/png": "[encoded data removed]",
      "text/plain": [
       "<Figure size 432x288 with 1 Axes>"
      ]
     },
     "metadata": {},
     "output_type": "display_data"
    }
   ],
   "source": [
    "g = fair_net\n",
    "\n",
    "attrs = nx.get_node_attributes(g, attr_name)\n",
    "    \n",
    "sizes = dict(Counter(list(attrs.values())))\n",
    "sizes['0'] = (sizes['0'] - 1) / (len(g) - 1)\n",
    "sizes['1'] = (sizes['1'] - 1) / (len(g) - 1)\n",
    "weights = dict(Counter(list(attrs.values())))\n",
    "weights['0'] = 1 - sizes['0']\n",
    "weights['1'] = 1 - sizes['1']\n",
    "\n",
    "marg_dict = dict()\n",
    "\n",
    "for node in tqdm(g.nodes()):\n",
    "    attr = attrs[node]\n",
    "\n",
    "    marg = 0\n",
    "    egonet = list(g.neighbors(node)) #+ [node]\n",
    "    egonet_attrs = [attrs[n] for n in egonet]\n",
    "    size = len(egonet_attrs)\n",
    "\n",
    "    if size > 2:\n",
    "        try:\n",
    "            count = dict(Counter(egonet_attrs))[attr]\n",
    "            marg = ((count * weights[attr] / (count * weights[attr] + (size-count)* (1 - weights[attr]))) - 0.5) * 2\n",
    "        except:\n",
    "            marg = 1\n",
    "    else:\n",
    "        marg = 0\n",
    "\n",
    "    marg_dict[node] = marg\n",
    "\n",
    "disc_nodes = [k for k,v in marg_dict.items() if abs(v) > threshold]\n",
    "disc = len(disc_nodes)\n",
    "\n",
    "ov_marg = np.mean([abs(v) for v in marg_dict.values()]) #network marginalization score\n",
    "\n",
    "print(\"\")\n",
    "print(\"Marginalized nodes:\", len(disc_nodes), round(len(disc_nodes) * 100 / len(g.nodes()), 2))\n",
    "print(\"Network Marginalization Score:\", ov_marg)\n",
    "\n",
    "fig, ax = plt.subplots()\n",
    "sns.kdeplot(list(marg_dict.values()), ax=ax)\n",
    "plt.xlabel('Marginalization Scores')\n",
    "ax.set_xlim(-1, 1)\n",
    "plt.show()"
   ]
  },
  {
   "cell_type": "code",
   "execution_count": null,
   "id": "11cabbef",
   "metadata": {},
   "outputs": [],
   "source": []
  }
 ],
 "metadata": {
  "kernelspec": {
   "display_name": "Python 3",
   "language": "python",
   "name": "python3"
  },
  "language_info": {
   "codemirror_mode": {
    "name": "ipython",
    "version": 3
   },
   "file_extension": ".py",
   "mimetype": "text/x-python",
   "name": "python",
   "nbconvert_exporter": "python",
   "pygments_lexer": "ipython3",
   "version": "3.8.8"
  }
 },
 "nbformat": 4,
 "nbformat_minor": 5
}
